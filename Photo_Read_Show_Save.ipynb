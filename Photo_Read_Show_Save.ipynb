{
 "cells": [
  {
   "cell_type": "code",
   "execution_count": 2,
   "metadata": {},
   "outputs": [],
   "source": [
    "import cv2"
   ]
  },
  {
   "cell_type": "code",
   "execution_count": 3,
   "metadata": {},
   "outputs": [],
   "source": [
    "#How we read a photo.\n",
    "img=cv2.imread(\"C:\\\\Users\\\\Lenovo\\\\Desktop\\\\Data_Mining\\\\klon.jpg\")"
   ]
  },
  {
   "cell_type": "code",
   "execution_count": 6,
   "metadata": {
    "scrolled": true
   },
   "outputs": [
    {
     "data": {
      "text/plain": [
       "-1"
      ]
     },
     "execution_count": 6,
     "metadata": {},
     "output_type": "execute_result"
    }
   ],
   "source": [
    "#We use this function to get the photo larger or smaller. (chaning the shape of the photo)\n",
    "cv2.namedWindow(\"Image\",cv2.WINDOW_NORMAL)\n",
    "\n",
    "#How we recall the photo\n",
    "cv2.imshow(\"Image\", img)\n",
    "\n",
    "#When we want to save the photo back.\n",
    "cv2.imwrite(\"C:\\\\Users\\\\Lenovo\\\\Desktop\\\\Data_Mining\\\\eren.jpg\",img)\n",
    "\n",
    "#We want the photo to stay open till we close it.\n",
    "cv2.waitKey(0)"
   ]
  },
  {
   "cell_type": "code",
   "execution_count": null,
   "metadata": {},
   "outputs": [],
   "source": []
  },
  {
   "cell_type": "code",
   "execution_count": null,
   "metadata": {},
   "outputs": [],
   "source": []
  }
 ],
 "metadata": {
  "kernelspec": {
   "display_name": "Python 3",
   "language": "python",
   "name": "python3"
  }
 },
 "nbformat": 4,
 "nbformat_minor": 2
}
